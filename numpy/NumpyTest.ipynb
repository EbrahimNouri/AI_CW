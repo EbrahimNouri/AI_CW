{
 "cells": [
  {
   "cell_type": "code",
   "id": "initial_id",
   "metadata": {
    "collapsed": true,
    "ExecuteTime": {
     "end_time": "2025-10-31T15:20:22.644621Z",
     "start_time": "2025-10-31T15:20:22.638281Z"
    }
   },
   "source": [
    "test_list = [1, 2, 3, 4, 5, 6, 7, 8, 9]\n",
    "length = len(test_list)\n",
    "print(length)\n",
    "avr = sum(test_list) / length\n",
    "\n",
    "vari = []\n",
    "for i in test_list:\n",
    "    vari.append((i - avr) ** 2)\n",
    "\n",
    "variance = sum(vari) / length\n",
    "print(variance)"
   ],
   "outputs": [
    {
     "name": "stdout",
     "output_type": "stream",
     "text": [
      "9\n",
      "6.666666666666667\n"
     ]
    }
   ],
   "execution_count": 5
  },
  {
   "metadata": {
    "ExecuteTime": {
     "end_time": "2025-10-31T15:19:00.754768Z",
     "start_time": "2025-10-31T15:19:00.749695Z"
    }
   },
   "cell_type": "code",
   "source": [
    "test_list = [1, 2, 3, 4, 5, 6, 7, 8, 9]\n",
    "length = len(test_list)\n",
    "avr = sum(test_list) / length\n",
    "\n",
    "vari = []\n",
    "for i in test_list:\n",
    "    vari.append((i - avr) ** 2)\n",
    "\n",
    "variance = sum(vari) / length\n",
    "print(\"Variance:\", variance)\n"
   ],
   "id": "e50d2772c72af6a1",
   "outputs": [
    {
     "name": "stdout",
     "output_type": "stream",
     "text": [
      "Variance: 6.666666666666667\n"
     ]
    }
   ],
   "execution_count": 2
  },
  {
   "metadata": {
    "ExecuteTime": {
     "end_time": "2025-10-31T15:21:27.857703Z",
     "start_time": "2025-10-31T15:21:27.836565Z"
    }
   },
   "cell_type": "code",
   "outputs": [
    {
     "name": "stdout",
     "output_type": "stream",
     "text": [
      "Variance: 6.666666666666667\n"
     ]
    }
   ],
   "execution_count": 6,
   "source": [
    "import numpy as np\n",
    "\n",
    "test_list = [1, 2, 3, 4, 5, 6, 7, 8, 9]\n",
    "\n",
    "variance = np.var(test_list)\n",
    "print(\"Variance:\", variance)\n"
   ],
   "id": "761ea41b42db9c83"
  },
  {
   "metadata": {},
   "cell_type": "code",
   "execution_count": 8,
   "source": [
    "import numpy as np   # 📦 ایمپورت کتابخانه NumPy\n",
    "\n",
    "# 1️⃣ ساخت آرایه (Array)\n",
    "arr = np.array([1, 2, 3, 4, 5])\n",
    "print(\"Array:\", arr)\n",
    "# خروجی → [1 2 3 4 5]\n",
    "\n",
    "# 2️⃣ عملیات ریاضی پایه روی کل آرایه\n",
    "print(\"arr + 10 →\", arr + 10)   # به همه‌ی عناصر ۱۰ اضافه می‌کنه → [11 12 13 14 15]\n",
    "print(\"arr * 2  →\", arr * 2)    # همه رو در ۲ ضرب می‌کنه → [ 2  4  6  8 10]\n",
    "print(\"arr ** 2 →\", arr ** 2)   # توان ۲ هر عنصر → [ 1  4  9 16 25]\n",
    "\n",
    "# 3️⃣ آمار پایه\n",
    "print(\"Mean:\", np.mean(arr))                # میانگین → 3.0\n",
    "print(\"Variance:\", np.var(arr))             # واریانس جامعه → 2.0\n",
    "print(\"Sample Variance:\", np.var(arr, ddof=1))  # واریانس نمونه → 2.5\n",
    "print(\"Standard Deviation:\", np.std(arr))   # انحراف معیار → 1.4142135623730951\n",
    "print(\"Sum:\", np.sum(arr))                  # مجموع → 15\n",
    "print(\"Product:\", np.prod(arr))             # حاصل‌ضرب کل عناصر → 120\n",
    "print(\"Min:\", np.min(arr), \"| Max:\", np.max(arr))   # کمترین و بیشترین → 1 و 5\n",
    "print(\"Index of Min:\", np.argmin(arr), \"| Index of Max:\", np.argmax(arr))\n",
    "# اندیس کوچک‌ترین (0) و بزرگ‌ترین (4)\n",
    "\n",
    "# 4️⃣ تولید داده تصادفی\n",
    "print(\"Random ints:\", np.random.randint(1, 10, size=5))\n",
    "# پنج عدد صحیح تصادفی بین 1 تا 9 (مثلاً [8 3 6 4 9])\n",
    "print(\"Random floats (0–1):\", np.random.rand(3))\n",
    "# سه عدد اعشاری بین 0 و 1 (مثلاً [0.18 0.75 0.42])\n",
    "print(\"Normal distribution:\", np.random.randn(3))\n",
    "# سه عدد از توزیع نرمال (مثلاً [0.23 -1.02 1.47])\n",
    "\n",
    "# 5️⃣ تغییر شکل و ساخت داده\n",
    "arr2 = np.arange(1, 7)   # تولید آرایه ۱ تا ۶ → [1 2 3 4 5 6]\n",
    "print(\"Reshape (2x3):\\n\", arr2.reshape(2, 3))\n",
    "# تغییر شکل به ماتریس ۲ سطری و ۳ ستونی →\n",
    "# [[1 2 3]\n",
    "#  [4 5 6]]\n",
    "print(\"arange(0,10,2):\", np.arange(0, 10, 2))\n",
    "# تولید اعداد از ۰ تا ۸ با گام ۲ → [0 2 4 6 8]\n",
    "print(\"linspace(0,1,5):\", np.linspace(0, 1, 5))\n",
    "# پنج عدد مساوی بین ۰ تا ۱ → [0.   0.25 0.5  0.75 1.  ]\n",
    "\n",
    "# 6️⃣ مرتب‌سازی و حذف تکراری‌ها\n",
    "arr3 = np.array([3, 1, 2, 3, 2, 1])\n",
    "print(\"Sorted:\", np.sort(arr3))     # مرتب‌سازی صعودی → [1 1 2 2 3 3]\n",
    "print(\"Unique:\", np.unique(arr3))   # حذف تکراری‌ها → [1 2 3]\n",
    "\n",
    "# 7️⃣ ضرب ماتریسی\n",
    "a = np.array([[1, 2], [3, 4]])   # ماتریس ۲×۲\n",
    "b = np.array([[5, 6], [7, 8]])   # ماتریس ۲×۲ دیگر\n",
    "print(\"Dot product:\\n\", np.dot(a, b))\n",
    "# ضرب ماتریسی:\n",
    "# [[(1*5 + 2*7)  (1*6 + 2*8)]\n",
    "#  [(3*5 + 4*7)  (3*6 + 4*8)]]\n",
    "# → [[19 22]\n",
    "#    [43 50]]\n"
   ],
   "id": "21996e70a6e8acae",
   "outputs": [
    {
     "name": "stdout",
     "output_type": "stream",
     "text": [
      "Array: [1 2 3 4 5]\n",
      "arr + 10 → [11 12 13 14 15]\n",
      "arr * 2  → [ 2  4  6  8 10]\n",
      "arr ** 2 → [ 1  4  9 16 25]\n",
      "Mean: 3.0\n",
      "Variance: 2.0\n",
      "Sample Variance: 2.5\n",
      "Standard Deviation: 1.4142135623730951\n",
      "Sum: 15\n",
      "Product: 120\n",
      "Min: 1 | Max: 5\n",
      "Index of Min: 0 | Index of Max: 4\n",
      "Random ints: [9 3 7 3 1]\n",
      "Random floats (0–1): [0.80618225 0.48615822 0.73526863]\n",
      "Normal distribution: [-1.33677426 -0.4501508  -1.19673519]\n",
      "Reshape (2x3):\n",
      " [[1 2 3]\n",
      " [4 5 6]]\n",
      "arange(0,10,2): [0 2 4 6 8]\n",
      "linspace(0,1,5): [0.   0.25 0.5  0.75 1.  ]\n",
      "Sorted: [1 1 2 2 3 3]\n",
      "Unique: [1 2 3]\n",
      "Dot product:\n",
      " [[19 22]\n",
      " [43 50]]\n"
     ]
    }
   ]
  }
 ],
 "metadata": {
  "kernelspec": {
   "display_name": "Python 3",
   "language": "python",
   "name": "python3"
  },
  "language_info": {
   "codemirror_mode": {
    "name": "ipython",
    "version": 2
   },
   "file_extension": ".py",
   "mimetype": "text/x-python",
   "name": "python",
   "nbconvert_exporter": "python",
   "pygments_lexer": "ipython2",
   "version": "2.7.6"
  }
 },
 "nbformat": 4,
 "nbformat_minor": 5
}
