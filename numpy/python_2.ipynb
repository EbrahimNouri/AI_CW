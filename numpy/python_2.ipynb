{
 "cells": [
  {
   "cell_type": "markdown",
   "id": "5fac8134",
   "metadata": {},
   "source": [
    "End of session 2"
   ]
  },
  {
   "cell_type": "code",
   "execution_count": 25,
   "id": "4f7ebac3",
   "metadata": {},
   "outputs": [
    {
     "name": "stdout",
     "output_type": "stream",
     "text": [
      "[2, 3.5, (4+2j), 'ALI', [1, 2, 3, 4], 7, 7, 7, 2, 7, 555, 666]\n",
      "my_list2.append: [2, 7, 555, 666, [777]]\n",
      "my_list2.extend: [2, 7, 555, 666, [777], 11, 22, 33]\n",
      "{2, 'ALI', 3.5, 7, (4+2j)}\n",
      "Intersection:  {2, 7}\n",
      "Union:  {2, 'ALI', 3.5, 7, (4+2j), 555, 888, 666}\n",
      "{'firstName': 'Ali', 'lastName': 'Reza zadeh', 'age': 31, 'scores': [17, 18.8, 16, 19]}\n",
      "{'firstName': 'Ali', 'lastName': 'Reza zadeh', 'set': {'A', 'C', 'B'}}\n",
      "my_tuple:  (1, 3, 7, 9)\n"
     ]
    }
   ],
   "source": [
    "my_list1 = [2,3.5,4+2j,\"ALI\",[1,2,3,4],7,7,7]\n",
    "my_list2 = [2,7,555,666]\n",
    "print(my_list1 + my_list2)\n",
    "\n",
    "my_list2.append([777])\n",
    "print(\"my_list2.append:\",my_list2)\n",
    "my_list2.extend([11,22,33])\n",
    "print(\"my_list2.extend:\",my_list2)\n",
    "\n",
    "\n",
    "my_set1 = {2,3.5,4+2j,\"ALI\",7,7,7}\n",
    "my_set2 = {2,7,555,666}\n",
    "my_set2.add(888)\n",
    "print(my_set1)\n",
    "print(\"Intersection: \",my_set1 & my_set2)\n",
    "print(\"Union: \",my_set1 | my_set2)\n",
    "\n",
    "\n",
    "my_dic1 = {\"firstName\":\"Ali\",\"lastName\":\"Reza zadeh\"}\n",
    "my_dic2 = {\"age\":31, \"scores\":[17,18.8,16,19]}\n",
    "my_dic3 = {\"set\":{\"A\",\"B\",\"C\"}}\n",
    "\n",
    "print(my_dic1 | my_dic2)\n",
    "my_dic1.update(my_dic3)\n",
    "print(my_dic1)\n",
    "\n",
    "my_tuple = (1,3,7,9)\n",
    "print(\"my_tuple: \",my_tuple)\n"
   ]
  },
  {
   "cell_type": "code",
   "execution_count": 26,
   "id": "ae8db078",
   "metadata": {},
   "outputs": [
    {
     "name": "stdout",
     "output_type": "stream",
     "text": [
      "11 [111, 222, 333, 444] 55\n",
      "[11, 22, 33]\n",
      "[11, 22, 33]\n",
      "[77, 88, 99, [111, 222, 333, 444]]\n",
      "[88, 99]\n",
      "[111, 222, 333, 444]\n",
      "10\n",
      "[333, 444]\n",
      "[11, 22, 300, 8888, 9999, 66, 77, 88, 99, [111, 222, 333, 444]]\n"
     ]
    }
   ],
   "source": [
    "my_list1 = [11,22,33,44,55,66,77,88,99,[111,222,333,444]]\n",
    "\n",
    "print(my_list1[0],my_list1[-1],my_list1[4])\n",
    "print(my_list1[0:3])\n",
    "print(my_list1[:3])\n",
    "print(my_list1[6:])\n",
    "print(my_list1[-3:-1])\n",
    "print(my_list1[-1])\n",
    "print(len(my_list1))\n",
    "print(my_list1[-1][-2:])\n",
    "\n",
    "my_list1[2]=300\n",
    "my_list1[3:5]= [8888,9999]\n",
    "print(my_list1)"
   ]
  },
  {
   "cell_type": "code",
   "execution_count": 27,
   "id": "38920648",
   "metadata": {},
   "outputs": [
    {
     "name": "stdout",
     "output_type": "stream",
     "text": [
      "1 9 2\n",
      "11,\n",
      "11,\n",
      "33,44,55,66,77,88,99\n",
      ",9\n",
      "26\n"
     ]
    }
   ],
   "source": [
    "my_str = \"11,22,33,44,55,66,77,88,99\"\n",
    "\n",
    "print(my_str[0],my_str[-1],my_str[4])\n",
    "print(my_str[0:3])\n",
    "print(my_str[:3])\n",
    "print(my_str[6:])\n",
    "print(my_str[-3:-1])\n",
    "print(len(my_str))\n"
   ]
  },
  {
   "cell_type": "code",
   "execution_count": 28,
   "id": "f1727160",
   "metadata": {},
   "outputs": [
    {
     "name": "stdout",
     "output_type": "stream",
     "text": [
      "{'firstName': 'Ali', 'lastName': 'Reza zadeh', 'age': 31, 'scores': [17, 18.8, 16, 19]}\n",
      "{'firstName': 'Hossein', 'lastName': 'Reza zadeh', 'age': 31, 'scores': [17, 18.8, 16, 19]}\n",
      "{'Insterted': 'some data'}\n"
     ]
    }
   ],
   "source": [
    "my_dic1 = {\"firstName\":\"Ali\",\"lastName\":\"Reza zadeh\"}\n",
    "my_dic2 = {\"age\":31, \"scores\":[17,18.8,16,19]}\n",
    "\n",
    "my_dic1.update(my_dic2)\n",
    "print(my_dic1)\n",
    "my_dic1[\"firstName\"]=\"Hossein\"\n",
    "print(my_dic1)\n",
    "\n",
    "my_dic3 = {}\n",
    "my_dic3[\"Insterted\"] = \"some data\"\n",
    "print(my_dic3)\n"
   ]
  },
  {
   "cell_type": "code",
   "execution_count": null,
   "id": "bd5ccae0",
   "metadata": {},
   "outputs": [
    {
     "name": "stdout",
     "output_type": "stream",
     "text": [
      "my_tuple:  (1, 3, 7, 9)\n",
      "(1, 3, 7)\n",
      "9\n",
      "(1, 3)\n"
     ]
    },
    {
     "ename": "TypeError",
     "evalue": "'tuple' object does not support item assignment",
     "output_type": "error",
     "traceback": [
      "\u001B[1;31m---------------------------------------------------------------------------\u001B[0m",
      "\u001B[1;31mTypeError\u001B[0m                                 Traceback (most recent call last)",
      "Cell \u001B[1;32mIn[31], line 8\u001B[0m\n\u001B[0;32m      5\u001B[0m \u001B[38;5;28mprint\u001B[39m(my_tuple[\u001B[38;5;241m-\u001B[39m\u001B[38;5;241m1\u001B[39m])\n\u001B[0;32m      6\u001B[0m \u001B[38;5;28mprint\u001B[39m(my_tuple[:\u001B[38;5;241m-\u001B[39m\u001B[38;5;241m2\u001B[39m])\n\u001B[1;32m----> 8\u001B[0m \u001B[43mmy_tuple\u001B[49m\u001B[43m[\u001B[49m\u001B[38;5;241;43m0\u001B[39;49m\u001B[43m]\u001B[49m\u001B[38;5;241m=\u001B[39m\u001B[38;5;241m111\u001B[39m\n\u001B[0;32m     10\u001B[0m my_tuple \u001B[38;5;241m=\u001B[39m (\u001B[38;5;241m2\u001B[39m,\u001B[38;5;241m3\u001B[39m)\n",
      "\u001B[1;31mTypeError\u001B[0m: 'tuple' object does not support item assignment"
     ]
    }
   ],
   "source": [
    "# // Immutable // #\n",
    "my_tuple = (1,3,7,9)\n",
    "print(\"my_tuple: \",my_tuple)\n",
    "print(my_tuple[0:3])\n",
    "print(my_tuple[-1])\n",
    "print(my_tuple[:-2])\n",
    "\n",
    "my_tuple[0]=111\n"
   ]
  },
  {
   "cell_type": "markdown",
   "id": "ebe1ee43",
   "metadata": {},
   "source": [
    "Control Structure"
   ]
  },
  {
   "cell_type": "code",
   "execution_count": 47,
   "id": "19f58281",
   "metadata": {},
   "outputs": [
    {
     "name": "stdout",
     "output_type": "stream",
     "text": [
      "0\n",
      "1\n",
      "2\n",
      "3\n",
      "4\n",
      "******************************\n",
      "2\n",
      "3\n",
      "4\n",
      "5\n",
      "[2, 3, 4, 5]\n",
      "******************************\n",
      "0\n",
      "2\n",
      "4\n",
      "6\n",
      "8\n",
      "[0, 2, 4, 6, 8]\n",
      "******************************\n",
      "10\n",
      "8\n",
      "6\n",
      "4\n",
      "2\n",
      "108642\n",
      "******************************\n",
      "10\n",
      "8\n",
      "6\n",
      "4\n",
      "2\n"
     ]
    }
   ],
   "source": [
    "# Start and stop\n",
    "for i in range(5):\n",
    "    print(i)\n",
    "# Output: 0 1 2 3 4 \n",
    "print(\"***\"*10)\n",
    "\n",
    "# Start and stop\n",
    "lst1 = []\n",
    "for i in range(2, 6):\n",
    "    print(i)\n",
    "    lst1.append(i)\n",
    "# Output: 2 3 4 5\n",
    "print(lst1)\n",
    "print(\"***\"*10)\n",
    "\n",
    "# With a step\n",
    "lst2=[]\n",
    "for i in range(0, 10, 2):\n",
    "    lst2+=[i]\n",
    "    print(i)\n",
    "# Output: 0 2 4 6 8\n",
    "print(lst2)\n",
    "print(\"***\"*10)\n",
    "\n",
    "# Going backwards\n",
    "str1 = \"\"\n",
    "for i in range(10, 0, -2):\n",
    "    str1 += str(i)\n",
    "    print(i)\n",
    "# Output: 10 8 6 4 2\n",
    "print(str1)\n",
    "print(\"***\"*10)\n",
    "\n",
    "# Going backwards\n",
    "iters = range(10, 0, -2)\n",
    "for i in iters:\n",
    "    print(i)\n",
    "# Output: 10 8 6 4 2\n"
   ]
  },
  {
   "cell_type": "code",
   "execution_count": 50,
   "id": "31317ae3",
   "metadata": {},
   "outputs": [
    {
     "name": "stdout",
     "output_type": "stream",
     "text": [
      "1\n",
      "2\n",
      "4\n",
      "5\n",
      "7\n",
      "8\n"
     ]
    }
   ],
   "source": [
    "for i in range(0, 10):\n",
    "    if (i%3)==0:\n",
    "        continue\n",
    "    print(i)\n",
    "    if i>7:\n",
    "        break\n"
   ]
  },
  {
   "cell_type": "code",
   "execution_count": 52,
   "id": "a1470708",
   "metadata": {},
   "outputs": [
    {
     "name": "stdout",
     "output_type": "stream",
     "text": [
      "my_list loop:\n",
      "11\n",
      "22\n",
      "33\n",
      "[111, 222, 333, 444]\n",
      "my_str loop:\n",
      "1\n",
      "1\n",
      ",\n",
      "2\n",
      "2\n",
      ",\n",
      "3\n",
      "3\n",
      "my_tuple loop:\n",
      "1\n",
      "3\n",
      "7\n",
      "9\n"
     ]
    }
   ],
   "source": [
    "print(\"my_list loop:\")\n",
    "my_list = [11,22,33,[111,222,333,444]]\n",
    "for item in my_list:\n",
    "    print(item)\n",
    "\n",
    "print(\"my_str loop:\")\n",
    "my_str = \"11,22,33\"\n",
    "for item in my_str:\n",
    "    print(item)\n",
    "\n",
    "\n",
    "print(\"my_tuple loop:\")\n",
    "my_tuple = (1,3,7,9)\n",
    "for item in my_tuple:\n",
    "    print(item)"
   ]
  },
  {
   "cell_type": "code",
   "execution_count": 62,
   "id": "c08d2376",
   "metadata": {},
   "outputs": [
    {
     "name": "stdout",
     "output_type": "stream",
     "text": [
      "my_dic1 loop:\n",
      "item: firstName val: Ali\n",
      "item: lastName val: Reza zadeh\n",
      "item: scores val: [1, 2, 3, 4, 5, 6, 7, 8, 9]\n",
      "item: old_data val: {'age': 31, 'scores': [17, 18.8, 16, 19]}\n",
      "\n",
      "\n",
      "\n",
      "my_dic1.items() loop:\n",
      "('firstName', 'Ali')\n",
      "('lastName', 'Reza zadeh')\n",
      "('scores', [1, 2, 3, 4, 5, 6, 7, 8, 9])\n",
      "('old_data', {'age': 31, 'scores': [17, 18.8, 16, 19]})\n",
      "\n",
      "\n",
      "\n",
      "my_dic1.keys() loop:\n",
      "firstName\n",
      "lastName\n",
      "scores\n",
      "old_data\n",
      "\n",
      "\n",
      "\n",
      "y_dic1.values() loop:\n",
      "Ali\n",
      "Reza zadeh\n",
      "[1, 2, 3, 4, 5, 6, 7, 8, 9]\n",
      "{'age': 31, 'scores': [17, 18.8, 16, 19]}\n"
     ]
    }
   ],
   "source": [
    "\n",
    "my_dic1 = {\"firstName\":\"Ali\",\n",
    "           \"lastName\":\"Reza zadeh\",\n",
    "           \"scores\":[1,2,3,4,5,6,7,8,9],\n",
    "           \"old_data\":my_dic2}\n",
    "\n",
    "print(\"my_dic1 loop:\")\n",
    "for item in my_dic1:\n",
    "    # print(item)\n",
    "    print(\"item:\",item,\"val:\",my_dic1[item])\n",
    "\n",
    "print(\"\\n\\n\")\n",
    "print(\"my_dic1.items() loop:\")\n",
    "for item in my_dic1.items():\n",
    "    print(item)\n",
    "\n",
    "print(\"\\n\\n\")\n",
    "print(\"my_dic1.keys() loop:\")\n",
    "for item in my_dic1.keys():\n",
    "    print(item)\n",
    "\n",
    "print(\"\\n\\n\")\n",
    "print(\"y_dic1.values() loop:\")\n",
    "for item in my_dic1.values():\n",
    "    print(item)\n"
   ]
  },
  {
   "cell_type": "code",
   "execution_count": 63,
   "id": "b295d1a3",
   "metadata": {},
   "outputs": [
    {
     "name": "stdout",
     "output_type": "stream",
     "text": [
      "{'firstName': 'Ali', 'lastName': 'Reza zadeh', 'scores': [1, 2, 3, 4, 5, 6, 7, 8, 9], 'old_data': {'age': 31, 'scores': [17, 18.8, 16, 19]}}\n",
      "{'firstName': 'Ali',\n",
      " 'lastName': 'Reza zadeh',\n",
      " 'old_data': {'age': 31, 'scores': [17, 18.8, 16, 19]},\n",
      " 'scores': [1, 2, 3, 4, 5, 6, 7, 8, 9]}\n"
     ]
    }
   ],
   "source": [
    "from pprint import pprint\n",
    "print(my_dic1)\n",
    "pprint(my_dic1)"
   ]
  },
  {
   "cell_type": "code",
   "execution_count": 66,
   "id": "354545e1",
   "metadata": {},
   "outputs": [
    {
     "name": "stdout",
     "output_type": "stream",
     "text": [
      "You are a teenager.\n"
     ]
    }
   ],
   "source": [
    "age = 17\n",
    "\n",
    "if age < 13:\n",
    "    print(\"You are a kid.\")\n",
    "elif age < 18:\n",
    "    print(\"You are a teenager.\")\n",
    "elif age>=18 and age<=50:\n",
    "    print(\"Middle-age\")\n",
    "else:\n",
    "    print(\"You are an adult.\")"
   ]
  },
  {
   "cell_type": "code",
   "execution_count": 70,
   "id": "c67637a4",
   "metadata": {},
   "outputs": [
    {
     "name": "stdout",
     "output_type": "stream",
     "text": [
      "Middle-age\n"
     ]
    }
   ],
   "source": [
    "age_str = input(\"Please enter your age (only years in integer number):\")\n",
    "\n",
    "try:\n",
    "    age = int(age_str)\n",
    "    if age < 13:\n",
    "        print(\"You are a kid.\")\n",
    "    elif age < 18:\n",
    "        print(\"You are a teenager.\")\n",
    "    elif age>=18 and age<=50:\n",
    "        print(\"Middle-age\")        \n",
    "    else:\n",
    "        print(\"You are an adult.\")    \n",
    "except:\n",
    "    print(\"<<<\",age_str,\">>>\",\"Entered number is not in valid format <integer required>.\")"
   ]
  },
  {
   "cell_type": "code",
   "execution_count": null,
   "id": "783d0bb1",
   "metadata": {},
   "outputs": [],
   "source": [
    "try:\n",
    "    x = int(input(\"Enter a number: \"))\n",
    "    print(10 / x)\n",
    "except ZeroDivisionError:\n",
    "    print(\"You can’t divide by zero!\")\n",
    "except ValueError:\n",
    "    print(\"That’s not a number!\")\n"
   ]
  },
  {
   "cell_type": "code",
   "execution_count": 81,
   "id": "6b842283",
   "metadata": {},
   "outputs": [
    {
     "name": "stdout",
     "output_type": "stream",
     "text": [
      "File not found!\n",
      "Done trying.\n"
     ]
    }
   ],
   "source": [
    "try:\n",
    "    file = open(\"myfile.txt\")\n",
    "except FileNotFoundError:\n",
    "    print(\"File not found!\")\n",
    "finally:\n",
    "    print(\"Done trying.\")\n"
   ]
  },
  {
   "cell_type": "code",
   "execution_count": 84,
   "id": "4b760969",
   "metadata": {},
   "outputs": [
    {
     "name": "stdout",
     "output_type": "stream",
     "text": [
      "division by zero\n"
     ]
    }
   ],
   "source": [
    "try:\n",
    "    x = 3/0\n",
    "\n",
    "except Exception as e:\n",
    "    print(e)"
   ]
  },
  {
   "cell_type": "code",
   "execution_count": 90,
   "id": "cda88f4e",
   "metadata": {},
   "outputs": [
    {
     "name": "stdout",
     "output_type": "stream",
     "text": [
      "<class 'int'>\n",
      "The var is INT\n"
     ]
    },
    {
     "data": {
      "text/plain": [
       "int"
      ]
     },
     "execution_count": 90,
     "metadata": {},
     "output_type": "execute_result"
    }
   ],
   "source": [
    "x = 5\n",
    "print(type(x))\n",
    "if type(x)==int:\n",
    "    print(\"The var is INT\")\n",
    "\n",
    "type(x)"
   ]
  },
  {
   "cell_type": "code",
   "execution_count": 83,
   "id": "b4bf221b",
   "metadata": {},
   "outputs": [
    {
     "name": "stdout",
     "output_type": "stream",
     "text": [
      "0 11\n",
      "1 22\n",
      "2 33\n",
      "3 44\n"
     ]
    }
   ],
   "source": [
    "x = [11,22,33,44]\n",
    "for i,j in enumerate(x):\n",
    "    print(i,j)"
   ]
  },
  {
   "cell_type": "code",
   "execution_count": 97,
   "id": "5ecca75b",
   "metadata": {},
   "outputs": [
    {
     "name": "stdout",
     "output_type": "stream",
     "text": [
      "60\n"
     ]
    }
   ],
   "source": [
    "x = [10,20,30]\n",
    "print(sum(x))"
   ]
  },
  {
   "cell_type": "code",
   "execution_count": 100,
   "id": "59160cff",
   "metadata": {},
   "outputs": [
    {
     "name": "stdout",
     "output_type": "stream",
     "text": [
      "Monday\n"
     ]
    }
   ],
   "source": [
    "def day_of_week(day):\n",
    "    match day:\n",
    "        case \"11AA\":\n",
    "            return \"Monday\"\n",
    "        case 2:\n",
    "            return \"Tuesday\"\n",
    "        case 3:\n",
    "            return \"Wednesday\"\n",
    "        case 4:\n",
    "            return \"Thursday\"\n",
    "        case 5:\n",
    "            return \"Friday\"\n",
    "        case 6:\n",
    "            return \"Saturday\"\n",
    "        case 7:\n",
    "            return \"Sunday\"\n",
    "        case _:\n",
    "            return \"Invalid day\"\n",
    "        \n",
    "\n",
    "print(day_of_week(\"11AA\"))  # Output: Wednesday"
   ]
  },
  {
   "cell_type": "code",
   "execution_count": 103,
   "id": "e0f32a9e",
   "metadata": {},
   "outputs": [
    {
     "name": "stdout",
     "output_type": "stream",
     "text": [
      "Y-axis at 5\n",
      "Origin\n",
      "Point at (3, 4)\n",
      "Not a valid point\n"
     ]
    }
   ],
   "source": [
    "def describe_point(point):\n",
    "    match point:\n",
    "        case (0, 0):\n",
    "            return \"Origin\"\n",
    "        case (0, y):\n",
    "            return f\"Y-axis at {y}\"\n",
    "        case (x, 0):\n",
    "            return f\"X-axis at {x}\"\n",
    "        case (x, y):\n",
    "            return f\"Point at ({x}, {y})\"\n",
    "        case _:\n",
    "            return \"Not a valid point\"\n",
    "\n",
    "print(describe_point((0, 5))) \n",
    "print(describe_point((0, 0))) \n",
    "print(describe_point((3, 4))) \n",
    "print(describe_point(\"ALI\"))"
   ]
  },
  {
   "cell_type": "code",
   "execution_count": null,
   "id": "14098526",
   "metadata": {},
   "outputs": [
    {
     "name": "stdout",
     "output_type": "stream",
     "text": [
      "Person Alice, 30 years old\n",
      "Company apple\n",
      "Unknown data\n"
     ]
    }
   ],
   "source": [
    "def handle_data(data):\n",
    "    match data:\n",
    "        case {\"type\": \"person\", \"name\": name, \"age\": age}:\n",
    "            return f\"Person {name}, {age} years old\"\n",
    "        case {\"type\": \"company\", \"name\": name}:\n",
    "            return f\"Company {name}\"\n",
    "        case _:\n",
    "            return \"Unknown data\"\n",
    "\n",
    "print(handle_data({\"type\": \"person\", \"name\": \"Alice\", \"age\": 30}))\n",
    "print(handle_data({\"type\": \"company\", \"name\": \"apple\"}))\n",
    "print(handle_data({\"type\": \"company\", \"name\": \"apple\"}))\n"
   ]
  },
  {
   "cell_type": "code",
   "execution_count": 17,
   "id": "37278207",
   "metadata": {},
   "outputs": [],
   "source": [
    "fruits = {\"name\": \"Alice\", \"age\": 25, \"city\": \"London\"}\n",
    "\n",
    "\n",
    "# with open(\"fruits.txt\", \"w\") as f:\n",
    "#     # for fruit in fruits:\n",
    "#     #     f.write(fruit + \"\\n\")  # write each on a new line\n",
    "#      f.write(str(fruits))\n",
    "# print(\"List saved!\")\n",
    "dict=str(fruits)"
   ]
  },
  {
   "cell_type": "code",
   "execution_count": null,
   "id": "e05ec549",
   "metadata": {},
   "outputs": [
    {
     "name": "stdout",
     "output_type": "stream",
     "text": [
      "String saved!\n",
      "List saved!\n",
      "Dictionary saved as JSON!\n"
     ]
    }
   ],
   "source": [
    "# Example string\n",
    "text = \"Hello, this is some sample text.\"\n",
    "\n",
    "# Open a file in write mode ('w')\n",
    "with open(\"myfile.txt\", \"w\") as f:\n",
    "    f.write(text)\n",
    "\n",
    "print(\"String saved!\")\n",
    "\n",
    "\n",
    "\n",
    "\n",
    "fruits = [\"apple\", \"banana\", \"cherry\"]\n",
    "\n",
    "with open(\"fruits.txt\", \"w\") as f:\n",
    "    for fruit in fruits:\n",
    "        f.write(fruit + \"\\n\")  # write each on a new line\n",
    "\n",
    "print(\"List saved!\")\n",
    "\n",
    "\n",
    "\n",
    "\n",
    "import json\n",
    "\n",
    "person = {\"name\": \"Alice\", \"age\": 25, \"city\": \"London\"}\n",
    "\n",
    "with open(\"person.json\", \"w\") as f:\n",
    "    json.dump(person, f, indent=10)\n",
    "\n",
    "print(\"Dictionary saved as JSON!\")"
   ]
  },
  {
   "cell_type": "code",
   "execution_count": 21,
   "id": "0e3c4f14",
   "metadata": {},
   "outputs": [
    {
     "name": "stdout",
     "output_type": "stream",
     "text": [
      "Hello, this is some sample text.\n"
     ]
    }
   ],
   "source": [
    "with open(\"myfile.txt\", \"r\") as f:\n",
    "    data = f.read()\n",
    "    print(data)"
   ]
  },
  {
   "cell_type": "markdown",
   "id": "bf428fb4",
   "metadata": {},
   "source": [
    "Part 2 Python & Data science"
   ]
  },
  {
   "cell_type": "code",
   "execution_count": 37,
   "id": "474b7e94",
   "metadata": {},
   "outputs": [
    {
     "name": "stdout",
     "output_type": "stream",
     "text": [
      "Average: 20.0\n",
      "Mean: 20.0\n",
      "Squares: [100 225 400 625 900]\n",
      "[[0.33409636 0.41330367]\n",
      " [0.45143866 0.23786457]]\n",
      "[0.04425143 0.70424817]\n",
      "(10, 20, 3)\n",
      "(10, 20, 3)\n"
     ]
    }
   ],
   "source": [
    "data = [10, 15, 20, 25, 30]\n",
    "average = sum(data) / len(data)\n",
    "print(\"Average:\", average)\n",
    "\n",
    "\n",
    "import numpy as np\n",
    "\n",
    "numbers = np.array([10, 15, 20, 25, 30])\n",
    "print(\"Mean:\", np.mean(numbers))\n",
    "print(\"Squares:\", numbers ** 2)\n",
    "\n",
    "print(np.random.rand(2,2))\n",
    "print(np.sum(np.random.rand(2,2),0))\n",
    "\n",
    "x = np.ones((10,20,3))\n",
    "# print(x)\n",
    "print(x.shape)\n",
    "y = np.ones_like(x)\n",
    "print(y.shape)\n",
    "\n",
    "\n"
   ]
  },
  {
   "cell_type": "code",
   "execution_count": 44,
   "id": "46957183",
   "metadata": {},
   "outputs": [
    {
     "name": "stdout",
     "output_type": "stream",
     "text": [
      "0.06453204154968262\n"
     ]
    }
   ],
   "source": [
    "from time import time\n",
    "\n",
    "t1 = time()\n",
    "for i in range(100000):\n",
    "    x=100**100\n",
    "\n",
    "print(time()-t1)"
   ]
  },
  {
   "cell_type": "code",
   "execution_count": 46,
   "id": "6d84ca18",
   "metadata": {},
   "outputs": [
    {
     "data": {
      "text/plain": [
       "20"
      ]
     },
     "execution_count": 46,
     "metadata": {},
     "output_type": "execute_result"
    }
   ],
   "source": [
    "eval(\"10+10\")"
   ]
  },
  {
   "cell_type": "code",
   "execution_count": 45,
   "id": "16c94175",
   "metadata": {},
   "outputs": [
    {
     "name": "stdout",
     "output_type": "stream",
     "text": [
      "2025-10-30 16:39:54.272559\n"
     ]
    }
   ],
   "source": [
    "from datetime import datetime\n",
    "print(datetime.now())\n"
   ]
  },
  {
   "cell_type": "code",
   "execution_count": 49,
   "id": "293daee6",
   "metadata": {},
   "outputs": [
    {
     "name": "stdout",
     "output_type": "stream",
     "text": [
      "{'Age': [25, 30, 35],\n",
      " 'Name': ['Alice', 'Bob', 'Charlie'],\n",
      " 'Score': [85, 90, 95]}\n",
      "      Name  Age  Score\n",
      "0    Alice   25     85\n",
      "1      Bob   30     90\n",
      "2  Charlie   35     95\n",
      "30.0\n"
     ]
    }
   ],
   "source": [
    "from pprint import pprint\n",
    "\n",
    "data = {\n",
    "    \"Name\": [\"Alice\", \"Bob\", \"Charlie\"],\n",
    "    \"Age\": [25, 30, 35],\n",
    "    \"Score\": [85, 90, 95]\n",
    "}\n",
    "\n",
    "pprint(data)\n",
    "\n",
    "\n",
    "import pandas as pd\n",
    "\n",
    "df = pd.DataFrame(data)\n",
    "print(df)\n",
    "print(df[\"Age\"].mean())\n",
    "\n",
    "### data = pd.read_csv(\"data.csv\")"
   ]
  },
  {
   "cell_type": "code",
   "execution_count": 55,
   "id": "4abb92cb",
   "metadata": {},
   "outputs": [
    {
     "data": {
      "image/png": "[encoded data removed]",
      "text/plain": [
       "<Figure size 640x480 with 1 Axes>"
      ]
     },
     "metadata": {},
     "output_type": "display_data"
    }
   ],
   "source": [
    "import matplotlib.pyplot as plt\n",
    "\n",
    "ages = [20, 25, 30, 35, 40]\n",
    "scores = [88, 92, 80, 89, 95]\n",
    "\n",
    "plt.plot(ages, scores,'+')\n",
    "plt.title(\"Scores by Age\")\n",
    "plt.xlabel(\"Age\")\n",
    "plt.ylabel(\"Score\")\n",
    "plt.show()\n"
   ]
  },
  {
   "cell_type": "code",
   "id": "56a57b2a",
   "metadata": {},
   "source": [
    "import numpy as np\n",
    "\n",
    "n = np.array([1,2,3,4])\n",
    "m = np.array([10,20,30,40])\n",
    "print((n+m)/2)"
   ],
   "outputs": [
    {
     "name": "stdout",
     "output_type": "stream",
     "text": [
      "[ 5.5 11.  16.5 22. ]\n"
     ]
    }
   ],
   "execution_count": 1
  },
  {
   "cell_type": "code",
   "execution_count": 61,
   "id": "03afbc59",
   "metadata": {},
   "outputs": [
    {
     "name": "stdout",
     "output_type": "stream",
     "text": [
      "      Name  Math  Science\n",
      "0    Alice    85       88\n",
      "1      Bob    90       76\n",
      "2  Charlie    78       89\n",
      "3    David    92       94\n",
      "      Name  Math  Science  Average\n",
      "0    Alice    85       88     86.5\n",
      "1      Bob    90       76     83.0\n",
      "2  Charlie    78       89     83.5\n",
      "3    David    92       94     93.0\n"
     ]
    },
    {
     "data": {
      "image/png": "[encoded data removed]",
      "text/plain": [
       "<Figure size 640x480 with 1 Axes>"
      ]
     },
     "metadata": {},
     "output_type": "display_data"
    }
   ],
   "source": [
    "import pandas as pd\n",
    "import matplotlib.pyplot as plt\n",
    "\n",
    "df = pd.DataFrame({\n",
    "    \"Name\": [\"Alice\", \"Bob\", \"Charlie\", \"David\"],\n",
    "    \"Math\": [85, 90, 78, 92],\n",
    "    \"Science\": [88, 76, 89, 94]\n",
    "})\n",
    "\n",
    "print(df)\n",
    "df[\"Average\"] = (df[\"Math\"] + df[\"Science\"]) / 2\n",
    "print(df)\n",
    "\n",
    "plt.bar(df[\"Name\"], df[\"Average\"])\n",
    "plt.title(\"Average Student Performance\")\n",
    "plt.show()\n"
   ]
  },
  {
   "cell_type": "markdown",
   "id": "39a7b698",
   "metadata": {},
   "source": [
    "Mini Project: Data Queries & Casting with a Default Dataset"
   ]
  },
  {
   "cell_type": "code",
   "execution_count": null,
   "id": "86bbca52",
   "metadata": {},
   "outputs": [
    {
     "name": "stdout",
     "output_type": "stream",
     "text": [
      "   total_bill   tip     sex smoker  day    time  size\n",
      "0       16.99  1.01  Female     No  Sun  Dinner     2\n",
      "1       10.34  1.66    Male     No  Sun  Dinner     3\n",
      "2       21.01  3.50    Male     No  Sun  Dinner     3\n",
      "3       23.68  3.31    Male     No  Sun  Dinner     2\n",
      "4       24.59  3.61  Female     No  Sun  Dinner     4\n"
     ]
    }
   ],
   "source": [
    "import pandas as pd\n",
    "import seaborn as sns\n",
    "\n",
    "# Load the dataset\n",
    "df = sns.load_dataset(\"tips\")\n",
    "\n",
    "# Show first few rows\n",
    "print(df.head())\n"
   ]
  },
  {
   "cell_type": "code",
   "execution_count": 11,
   "id": "cf213acb",
   "metadata": {},
   "outputs": [
    {
     "name": "stdout",
     "output_type": "stream",
     "text": [
      "<class 'pandas.core.frame.DataFrame'>\n",
      "RangeIndex: 244 entries, 0 to 243\n",
      "Data columns (total 7 columns):\n",
      " #   Column      Non-Null Count  Dtype   \n",
      "---  ------      --------------  -----   \n",
      " 0   total_bill  244 non-null    float64 \n",
      " 1   tip         244 non-null    float64 \n",
      " 2   sex         244 non-null    category\n",
      " 3   smoker      244 non-null    category\n",
      " 4   day         244 non-null    category\n",
      " 5   time        244 non-null    category\n",
      " 6   size        244 non-null    int64   \n",
      "dtypes: category(4), float64(2), int64(1)\n",
      "memory usage: 7.4 KB\n",
      "None\n",
      "/#//#//#//#//#//#//#//#//#//#/\n",
      "       total_bill         tip        size\n",
      "count  244.000000  244.000000  244.000000\n",
      "mean    19.785943    2.998279    2.569672\n",
      "std      8.902412    1.383638    0.951100\n",
      "min      3.070000    1.000000    1.000000\n",
      "25%     13.347500    2.000000    2.000000\n",
      "50%     17.795000    2.900000    2.000000\n",
      "75%     24.127500    3.562500    3.000000\n",
      "max     50.810000   10.000000    6.000000\n",
      "/#//#//#//#//#//#//#//#//#//#/\n",
      "(244, 7)\n"
     ]
    }
   ],
   "source": [
    "print(df.info())       # data types and nulls\n",
    "print(\"/#/\"*10)\n",
    "print(df.describe())   # numeric summary\n",
    "print(\"/#/\"*10)\n",
    "print(df.shape)        # rows and columns\n"
   ]
  },
  {
   "cell_type": "code",
   "execution_count": 12,
   "id": "77c31ad8",
   "metadata": {},
   "outputs": [
    {
     "name": "stdout",
     "output_type": "stream",
     "text": [
      "    total_bill   tip     sex smoker  day    time  size\n",
      "23       39.42  7.58    Male     No  Sat  Dinner     4\n",
      "44       30.40  5.60    Male     No  Sun  Dinner     4\n",
      "47       32.40  6.00    Male     No  Sun  Dinner     4\n",
      "52       34.81  5.20  Female     No  Sun  Dinner     4\n",
      "59       48.27  6.73    Male     No  Sat  Dinner     4\n",
      "   total_bill   tip  day\n",
      "0       16.99  1.01  Sun\n",
      "1       10.34  1.66  Sun\n",
      "2       21.01  3.50  Sun\n",
      "3       23.68  3.31  Sun\n",
      "4       24.59  3.61  Sun\n",
      "   total_bill   tip     sex smoker  day    time  size\n",
      "0       16.99  1.01  Female     No  Sun  Dinner     2\n",
      "1       10.34  1.66    Male     No  Sun  Dinner     3\n",
      "2       21.01  3.50    Male     No  Sun  Dinner     3\n",
      "3       23.68  3.31    Male     No  Sun  Dinner     2\n",
      "4       24.59  3.61  Female     No  Sun  Dinner     4\n",
      "day\n",
      "Thur    2.771452\n",
      "Fri     2.734737\n",
      "Sat     2.993103\n",
      "Sun     3.255132\n",
      "Name: tip, dtype: float64\n"
     ]
    },
    {
     "name": "stderr",
     "output_type": "stream",
     "text": [
      "C:\\Users\\Admin\\AppData\\Local\\Temp\\ipykernel_8536\\449550018.py:14: FutureWarning: The default of observed=False is deprecated and will be changed to True in a future version of pandas. Pass observed=False to retain current behavior or observed=True to adopt the future default and silence this warning.\n",
      "  avg_tips = df.groupby(\"day\")[\"tip\"].mean()\n"
     ]
    }
   ],
   "source": [
    "# 1️⃣ Filter rows (tips greater than $5)\n",
    "big_tips = df[df[\"tip\"] > 5]\n",
    "print(big_tips.head())\n",
    "\n",
    "# 2️⃣ Select specific columns\n",
    "subset = df[[\"total_bill\", \"tip\", \"day\"]]\n",
    "print(subset.head())\n",
    "\n",
    "# 3️⃣ Conditional query — dinner time, non-smokers only\n",
    "dinner_ns = df[(df[\"time\"] == \"Dinner\") & (df[\"smoker\"] == \"No\")]\n",
    "print(dinner_ns.head())\n",
    "\n",
    "# 4️⃣ Average tip by day\n",
    "avg_tips = df.groupby(\"day\")[\"tip\"].mean()\n",
    "print(avg_tips)\n"
   ]
  },
  {
   "cell_type": "code",
   "execution_count": 14,
   "id": "ef53aa77",
   "metadata": {},
   "outputs": [
    {
     "name": "stdout",
     "output_type": "stream",
     "text": [
      "total_bill         float64\n",
      "tip                float64\n",
      "sex               category\n",
      "smoker            category\n",
      "day               category\n",
      "time              category\n",
      "size               float64\n",
      "total_bill_str      object\n",
      "dtype: object\n",
      "/##//##//##//##//##//##//##//##//##//##/\n",
      "total_bill         float64\n",
      "tip                float64\n",
      "sex               category\n",
      "smoker            category\n",
      "day               category\n",
      "time              category\n",
      "size               float64\n",
      "total_bill_str      object\n",
      "dtype: object\n"
     ]
    }
   ],
   "source": [
    "# Check types\n",
    "print(df.dtypes)\n",
    "print(\"/##/\"*10)\n",
    "# Convert 'size' from int to float\n",
    "df[\"size\"] = df[\"size\"].astype(float)\n",
    "\n",
    "# Convert 'day' to category (saves memory)\n",
    "df[\"day\"] = df[\"day\"].astype(\"category\")\n",
    "\n",
    "# Convert 'total_bill' to string (for demonstration)\n",
    "df[\"total_bill_str\"] = df[\"total_bill\"].astype(str)\n",
    "\n",
    "print(df.dtypes)\n"
   ]
  },
  {
   "cell_type": "code",
   "execution_count": 15,
   "id": "15b80f1e",
   "metadata": {},
   "outputs": [
    {
     "data": {
      "image/png": "[encoded data removed]",
      "text/plain": [
       "<Figure size 640x480 with 1 Axes>"
      ]
     },
     "metadata": {},
     "output_type": "display_data"
    },
    {
     "data": {
      "image/png": "[encoded data removed]",
      "text/plain": [
       "<Figure size 640x480 with 1 Axes>"
      ]
     },
     "metadata": {},
     "output_type": "display_data"
    }
   ],
   "source": [
    "import matplotlib.pyplot as plt\n",
    "\n",
    "# Average tip by day\n",
    "avg_tips.plot(kind=\"bar\", title=\"Average Tip by Day\")\n",
    "plt.ylabel(\"Tip ($)\")\n",
    "plt.show()\n",
    "\n",
    "# Relationship between total bill and tip\n",
    "plt.scatter(df[\"total_bill\"], df[\"tip\"])\n",
    "plt.title(\"Total Bill vs Tip\")\n",
    "plt.xlabel(\"Total Bill\")\n",
    "plt.ylabel(\"Tip\")\n",
    "plt.show()\n"
   ]
  },
  {
   "cell_type": "code",
   "execution_count": null,
   "id": "813c17dc",
   "metadata": {},
   "outputs": [],
   "source": [
    "df.to_csv(\"cleaned_tips.csv\", index=False)\n",
    "print(\"Saved to cleaned_tips.csv\")"
   ]
  }
 ],
 "metadata": {
  "kernelspec": {
   "display_name": "Python 3",
   "language": "python",
   "name": "python3"
  },
  "language_info": {
   "codemirror_mode": {
    "name": "ipython",
    "version": 3
   },
   "file_extension": ".py",
   "mimetype": "text/x-python",
   "name": "python",
   "nbconvert_exporter": "python",
   "pygments_lexer": "ipython3",
   "version": "3.10.0"
  }
 },
 "nbformat": 4,
 "nbformat_minor": 5
}
