{
 "cells": [
  {
   "cell_type": "code",
   "execution_count": null,
   "id": "initial_id",
   "metadata": {
    "collapsed": true
   },
   "outputs": [],
   "source": [
    "from pprint import pprint\n",
    "\n",
    "dic = {\n",
    "    \"Ebrahim\": {\n",
    "        \"name\": \"Ebrahim\",\n",
    "        \"age\": 32,\n",
    "        \"city\": \"Tehtran\",\n",
    "        \"email\": \"Ebrahim@mail.com\",\n",
    "    },\n",
    "    \"Ali\": {\n",
    "        \"name\": \"Ali\",\n",
    "        \"age\": 30,\n",
    "        \"city\": \"Shiraz\",\n",
    "        \"email\": \"Ali@mail.com\",\n",
    "    }\n",
    "}\n",
    "\n",
    "name = input(\"enter your name: \")\n",
    "# name = \"Ebrahim\"\n",
    "if name in dic:\n",
    "    pprint(dic[name])\n",
    "else:\n",
    "    pprint(\"name is not exist.\")\n",
    "\n",
    "\n"
   ]
  },
  {
   "metadata": {},
   "cell_type": "code",
   "outputs": [],
   "execution_count": null,
   "source": [
    "\n",
    "n = int(input(\"Enter a number : \"))\n",
    "for i in range(n, 0, -1):\n",
    "    for j in range(i, 0, -1):\n",
    "        print(j, end=\" \")\n",
    "    print()\n"
   ],
   "id": "74f5749f74db6af1"
  },
  {
   "metadata": {},
   "cell_type": "code",
   "outputs": [],
   "execution_count": null,
   "source": [
    "with open('notes.txt', 'a') as f:\n",
    "    user_input = input('enter:(for exit 0) ')\n",
    "\n",
    "    while user_input != '0':\n",
    "        f.write(user_input + '\\n')\n",
    "        user_input = input('enter:(for exit 0)')\n",
    "\n",
    "try:\n",
    "    with open(\"note.txt\") as file:\n",
    "        lines = file.readlines()\n",
    "\n",
    "        num_lines = len(lines)\n",
    "        num_chars = sum(len(line) for line in lines)\n",
    "        num_words = sum(len(line.split(\" \")) for line in lines)\n",
    "\n",
    "        print(\"lines:\", num_lines)\n",
    "        print(\"words:\", num_words)\n",
    "        print(\"characters:\", num_chars)\n",
    "\n",
    "except FileNotFoundError:\n",
    "    print(\"File not found\")\n",
    "\n"
   ],
   "id": "b9c11feee0488f28"
  },
  {
   "metadata": {},
   "cell_type": "code",
   "outputs": [],
   "execution_count": null,
   "source": [
    "\n",
    "def calculate(user_number):\n",
    "    if user_number < 0: return \"Not valid\"\n",
    "\n",
    "    result = sum(number for number in range(user_number + 1) if number % 2 == 0)\n",
    "    # for number in range(user_number + 1):\n",
    "    #     if number % 2 == 0:\n",
    "    #         result += number\n",
    "\n",
    "    return result\n",
    "\n",
    "\n",
    "user_input = int(input(\"Please enter a number: \"))\n",
    "print(calculate(user_input))"
   ],
   "id": "b06fc678b41dfe36"
  },
  {
   "metadata": {},
   "cell_type": "code",
   "outputs": [],
   "execution_count": null,
   "source": [
    "\n",
    "def calculate(user_number):\n",
    "    if user_number < 0: return \"Not valid\"\n",
    "\n",
    "    result = sum(number for number in range(user_number + 1) if number % 2 == 0)\n",
    "    # for number in range(user_number + 1):\n",
    "    #     if number % 2 == 0:\n",
    "    #         result += number\n",
    "\n",
    "    return result\n",
    "\n",
    "\n",
    "user_input = int(input(\"Please enter a number: \"))\n",
    "print(calculate(user_input))\n"
   ],
   "id": "fa810a7dd8053499"
  },
  {
   "metadata": {},
   "cell_type": "code",
   "outputs": [],
   "execution_count": null,
   "source": [
    "n = int(input(\"Enter a number : \"))\n",
    "for i in range(n, 0, -1):\n",
    "    for j in range(i, 0, -1):\n",
    "        print(j, end=\" \")\n",
    "    print()"
   ],
   "id": "3c6a1ecfc2ebeb6"
  },
  {
   "metadata": {},
   "cell_type": "code",
   "outputs": [],
   "execution_count": null,
   "source": [
    "with open('notes.txt', 'a') as f:\n",
    "    user_input = input('enter:(for exit 0) ')\n",
    "\n",
    "    while user_input != '0':\n",
    "        f.write(user_input + '\\n')\n",
    "        user_input = input('enter:(for exit 0)')"
   ],
   "id": "96bd6c0859a5958a"
  },
  {
   "metadata": {},
   "cell_type": "code",
   "outputs": [],
   "execution_count": null,
   "source": [
    "from pprint import pprint\n",
    "\n",
    "dic = {\n",
    "    \"Ebrahim\": {\n",
    "        \"name\": \"Ebrahim\",\n",
    "        \"age\": 32,\n",
    "        \"city\": \"Tehtran\",\n",
    "        \"email\": \"Ebrahim@mail.com\",\n",
    "    },\n",
    "    \"Ali\": {\n",
    "        \"name\": \"Ali\",\n",
    "        \"age\": 30,\n",
    "        \"city\": \"Shiraz\",\n",
    "        \"email\": \"Ali@mail.com\",\n",
    "    }\n",
    "}\n",
    "\n",
    "name = input(\"enter your name: \")\n",
    "# name = \"Ebrahim\"\n",
    "if name in dic:\n",
    "    pprint(dic[name])\n",
    "else:\n",
    "    pprint(\"name is not exist.\")"
   ],
   "id": "9f5587389eb8e4cb"
  }
 ],
 "metadata": {
  "kernelspec": {
   "display_name": "Python 3",
   "language": "python",
   "name": "python3"
  },
  "language_info": {
   "codemirror_mode": {
    "name": "ipython",
    "version": 2
   },
   "file_extension": ".py",
   "mimetype": "text/x-python",
   "name": "python",
   "nbconvert_exporter": "python",
   "pygments_lexer": "ipython2",
   "version": "2.7.6"
  }
 },
 "nbformat": 4,
 "nbformat_minor": 5
}
