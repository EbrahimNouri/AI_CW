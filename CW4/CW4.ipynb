{
 "cells": [
  {
   "cell_type": "code",
   "execution_count": null,
   "id": "initial_id",
   "metadata": {
    "collapsed": true
   },
   "outputs": [],
   "source": [
    "import json\n",
    "from pprint import pprint\n",
    "\n",
    "dic = {\n",
    "    \"Ebrahim\": {\n",
    "        \"name\": \"Ebrahim\",\n",
    "        \"age\": 32,\n",
    "        \"city\": \"Tehtran\",\n",
    "        \"email\": \"Ebrahim@mail.com\",\n",
    "    },\n",
    "    \"Ali\": {\n",
    "        \"name\": \"Ali\",\n",
    "        \"age\": 30,\n",
    "        \"city\": \"Shiraz\",\n",
    "        \"email\": \"Ali@mail.com\",\n",
    "    }\n",
    "}\n",
    "\n",
    "name = input(\"enter your name: \")\n",
    "# name = \"Ebrahim\"\n",
    "if name in dic:\n",
    "    pprint(dic[name])\n",
    "else:\n",
    "    pprint(\"name is not exist.\")\n",
    "\n",
    "\n"
   ]
  },
  {
   "metadata": {},
   "cell_type": "code",
   "outputs": [],
   "execution_count": null,
   "source": [
    "\n",
    "n = int(input(\"Enter a number : \"))\n",
    "for i in range(n, 0, -1):\n",
    "    for j in range(i, 0, -1):\n",
    "        print(j, end=\" \")\n",
    "    print()\n"
   ],
   "id": "74f5749f74db6af1"
  },
  {
   "metadata": {},
   "cell_type": "code",
   "outputs": [],
   "execution_count": null,
   "source": [
    "with open('notes.txt', 'a') as f:\n",
    "    user_input = input('enter:(for exit 0) ')\n",
    "\n",
    "    while user_input != '0':\n",
    "        f.write(user_input + '\\n')\n",
    "        user_input = input('enter:(for exit 0)')\n",
    "\n",
    "try:\n",
    "    with open(\"note.txt\") as file:\n",
    "        lines = file.readlines()\n",
    "\n",
    "        num_lines = len(lines)\n",
    "        num_chars = sum(len(line) for line in lines)\n",
    "        num_words = sum(len(line.split(\" \")) for line in lines)\n",
    "\n",
    "        print(\"lines:\", num_lines)\n",
    "        print(\"words:\", num_words)\n",
    "        print(\"characters:\", num_chars)\n",
    "\n",
    "except FileNotFoundError:\n",
    "    print(\"File not found\")\n",
    "\n"
   ],
   "id": "b9c11feee0488f28"
  },
  {
   "metadata": {},
   "cell_type": "code",
   "outputs": [],
   "execution_count": null,
   "source": [
    "\n",
    "def calculate(user_number):\n",
    "    if user_number < 0: return \"Not valid\"\n",
    "\n",
    "    result = sum(number for number in range(user_number + 1) if number % 2 == 0)\n",
    "    # for number in range(user_number + 1):\n",
    "    #     if number % 2 == 0:\n",
    "    #         result += number\n",
    "\n",
    "    return result\n",
    "\n",
    "\n",
    "user_input = int(input(\"Please enter a number: \"))\n",
    "print(calculate(user_input))"
   ],
   "id": "b06fc678b41dfe36"
  },
  {
   "metadata": {},
   "cell_type": "code",
   "outputs": [],
   "execution_count": null,
   "source": [
    "\n",
    "def calculate(user_number):\n",
    "    if user_number < 0: return \"Not valid\"\n",
    "\n",
    "    result = sum(number for number in range(user_number + 1) if number % 2 == 0)\n",
    "    # for number in range(user_number + 1):\n",
    "    #     if number % 2 == 0:\n",
    "    #         result += number\n",
    "\n",
    "    return result\n",
    "\n",
    "\n",
    "user_input = int(input(\"Please enter a number: \"))\n",
    "print(calculate(user_input))\n"
   ],
   "id": "fa810a7dd8053499"
  },
  {
   "metadata": {},
   "cell_type": "code",
   "outputs": [],
   "execution_count": null,
   "source": [
    "n = int(input(\"Enter a number : \"))\n",
    "for i in range(n, 0, -1):\n",
    "    for j in range(i, 0, -1):\n",
    "        print(j, end=\" \")\n",
    "    print()"
   ],
   "id": "3c6a1ecfc2ebeb6"
  },
  {
   "metadata": {},
   "cell_type": "code",
   "outputs": [],
   "execution_count": null,
   "source": [
    "with open('notes.txt', 'a') as f:\n",
    "    user_input = input('enter:(for exit 0) ')\n",
    "\n",
    "    while user_input != '0':\n",
    "        f.write(user_input + '\\n')\n",
    "        user_input = input('enter:(for exit 0)')"
   ],
   "id": "96bd6c0859a5958a"
  },
  {
   "metadata": {},
   "cell_type": "code",
   "outputs": [],
   "execution_count": null,
   "source": [
    "from pprint import pprint\n",
    "\n",
    "dic = {\n",
    "    \"Ebrahim\": {\n",
    "        \"name\": \"Ebrahim\",\n",
    "        \"age\": 32,\n",
    "        \"city\": \"Tehtran\",\n",
    "        \"email\": \"Ebrahim@mail.com\",\n",
    "    },\n",
    "    \"Ali\": {\n",
    "        \"name\": \"Ali\",\n",
    "        \"age\": 30,\n",
    "        \"city\": \"Shiraz\",\n",
    "        \"email\": \"Ali@mail.com\",\n",
    "    }\n",
    "}\n",
    "\n",
    "name = input(\"enter your name: \")\n",
    "# name = \"Ebrahim\"\n",
    "if name in dic:\n",
    "    pprint(dic[name])\n",
    "else:\n",
    "    pprint(\"name is not exist.\")"
   ],
   "id": "9f5587389eb8e4cb"
  },
  {
   "metadata": {
    "ExecuteTime": {
     "end_time": "2025-10-31T12:53:07.763605Z",
     "start_time": "2025-10-31T12:53:07.755372Z"
    }
   },
   "cell_type": "code",
   "source": [
    "from re import sub\n",
    "\n",
    "try:\n",
    "    with open(\"notes.txt\", \"r\") as file:\n",
    "        txt = file.read()\n",
    "        cleaned = sub(r' +', ' ', txt)\n",
    "        print(cleaned)\n",
    "\n",
    "except FileNotFoundError:\n",
    "    print(\"File not found\")\n"
   ],
   "id": "c24f643c44133a6c",
   "outputs": [
    {
     "name": "stdout",
     "output_type": "stream",
     "text": [
      "dic = {\n",
      " \"Ebrahim\": {\n",
      " \"name\": \"Ebrahim\",\n",
      " \"age\": 32,\n",
      " \"city\": \"Tehtran\",\n",
      " \"email\": \"Ebrahim@mail.com\",\n",
      " },\n",
      " \"Ali\": {\n",
      " \"name\": \"Ali\",\n",
      " \"age\": 30,\n",
      " \"city\": \"Shiraz\",\n",
      " \"email\": \"Ali@mail.com\",\n",
      " }\n",
      "}\n",
      "\n",
      "name = input(\"enter your name: \")\n",
      "# name = \"Ebrahim\"\n",
      "if name in dic:\n",
      " pprint(dic[name])\n"
     ]
    }
   ],
   "execution_count": 9
  },
  {
   "metadata": {},
   "cell_type": "code",
   "outputs": [],
   "execution_count": null,
   "source": "",
   "id": "f6905b345300614f"
  },
  {
   "metadata": {
    "ExecuteTime": {
     "end_time": "2025-10-31T12:53:23.877071Z",
     "start_time": "2025-10-31T12:53:23.867962Z"
    }
   },
   "cell_type": "code",
   "source": [
    "try:\n",
    "    with open(\"notes.txt\") as file:\n",
    "        txt = file.read()\n",
    "        cleaned = \" \".join(txt.split())\n",
    "        print(cleaned)\n",
    "\n",
    "except FileNotFoundError:\n",
    "    print(\"File not found\")\n"
   ],
   "id": "5358bea0d14d0890",
   "outputs": [
    {
     "name": "stdout",
     "output_type": "stream",
     "text": [
      "dic = { \"Ebrahim\": { \"name\": \"Ebrahim\", \"age\": 32, \"city\": \"Tehtran\", \"email\": \"Ebrahim@mail.com\", }, \"Ali\": { \"name\": \"Ali\", \"age\": 30, \"city\": \"Shiraz\", \"email\": \"Ali@mail.com\", } } name = input(\"enter your name: \") # name = \"Ebrahim\" if name in dic: pprint(dic[name])\n"
     ]
    }
   ],
   "execution_count": 10
  },
  {
   "metadata": {
    "ExecuteTime": {
     "end_time": "2025-10-31T13:08:12.614551Z",
     "start_time": "2025-10-31T13:08:12.605146Z"
    }
   },
   "cell_type": "code",
   "source": [
    "import json\n",
    "from pprint import pprint\n",
    "\n",
    "dic = {\n",
    "    \"Ebrahim\": {\n",
    "        \"name\": \"Ebrahim\",\n",
    "        \"age\": 32,\n",
    "        \"city\": \"Tehtran\",\n",
    "        \"email\": \"Ebrahim@mail.com\",\n",
    "    },\n",
    "    \"Ali\": {\n",
    "        \"name\": \"Ali\",\n",
    "        \"age\": 30,\n",
    "        \"city\": \"Shiraz\",\n",
    "        \"email\": \"Ali@mail.com\",\n",
    "    }\n",
    "}\n",
    "\n",
    "with open(\"notes1.txt\", \"w\", encoding=\"utf-8\") as file:\n",
    "    json.dump(dic, file, indent=4)\n",
    "\n",
    "with open(\"notes1.txt\", \"r\") as file:\n",
    "    loaded = json.load(file)\n",
    "    pprint(loaded)\n",
    "\n",
    "for k, v in loaded.items():\n",
    "    print(k, \":\", v)"
   ],
   "id": "72fb89b08d4816a1",
   "outputs": [
    {
     "name": "stdout",
     "output_type": "stream",
     "text": [
      "{'Ali': {'age': 30, 'city': 'Shiraz', 'email': 'Ali@mail.com', 'name': 'Ali'},\n",
      " 'Ebrahim': {'age': 32,\n",
      "             'city': 'Tehtran',\n",
      "             'email': 'Ebrahim@mail.com',\n",
      "             'name': 'Ebrahim'}}\n",
      "Ebrahim : {'name': 'Ebrahim', 'age': 32, 'city': 'Tehtran', 'email': 'Ebrahim@mail.com'}\n",
      "Ali : {'name': 'Ali', 'age': 30, 'city': 'Shiraz', 'email': 'Ali@mail.com'}\n"
     ]
    }
   ],
   "execution_count": 33
  }
 ],
 "metadata": {
  "kernelspec": {
   "display_name": "Python 3",
   "language": "python",
   "name": "python3"
  },
  "language_info": {
   "codemirror_mode": {
    "name": "ipython",
    "version": 2
   },
   "file_extension": ".py",
   "mimetype": "text/x-python",
   "name": "python",
   "nbconvert_exporter": "python",
   "pygments_lexer": "ipython2",
   "version": "2.7.6"
  }
 },
 "nbformat": 4,
 "nbformat_minor": 5
}
